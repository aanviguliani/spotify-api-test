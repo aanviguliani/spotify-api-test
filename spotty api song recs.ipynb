{
 "cells": [
  {
   "cell_type": "code",
   "execution_count": 1,
   "id": "7ce5e9bb-d20c-4e1b-8d33-6765f45cab69",
   "metadata": {},
   "outputs": [],
   "source": [
    "import spotipy\n",
    "import spotipy.util as util\n",
    "from spotipy.oauth2 import SpotifyClientCredentials\n",
    "import spotipy.oauth2 as oauth2\n",
    "import pprint\n",
    "import os"
   ]
  },
  {
   "cell_type": "markdown",
   "id": "ad3d0297-6d5d-41f7-8a22-694a0feb3c3f",
   "metadata": {},
   "source": [
    "#### ALL THE FUN API CONNECTION / AUTHORIZATION STUFF"
   ]
  },
  {
   "cell_type": "code",
   "execution_count": 2,
   "id": "80bdeeac-5d57-4793-bd57-9e1999f3758f",
   "metadata": {},
   "outputs": [],
   "source": [
    "market = [ \"AD\", \"AR\", \"AT\", \"AU\", \"BE\", \"BG\", \"BO\", \"BR\", \"CA\", \"CH\", \"CL\", \"CO\", \"CR\", \"CY\", \n",
    "      \"CZ\", \"DE\", \"DK\", \"DO\", \"EC\", \"EE\", \"ES\", \"FI\", \"FR\", \"GB\", \"GR\", \"GT\", \"HK\", \"HN\", \"HU\", \n",
    "      \"ID\", \"IE\", \"IS\", \"IT\", \"JP\", \"LI\", \"LT\", \"LU\", \"LV\", \"MC\", \"MT\", \"MX\", \"MY\", \"NI\", \"NL\", \n",
    "      \"NO\", \"NZ\", \"PA\", \"PE\", \"PH\", \"PL\", \"PT\", \"PY\", \"SE\", \"SG\", \"SK\", \"SV\", \"TH\", \"TR\", \"TW\", \n",
    "      \"US\", \"UY\", \"VN\" ]\n",
    "\n",
    "cid = \"8cb6a4b6416941e0b6d53723c3309cff\"\n",
    "secret = \"4d768566168546d68e11c2a1c7a65e15\"\n",
    "\n",
    "scopes = [\"playlist-read-private\", \"playlist-read-collaborative\", \"playlist-modify-private\", \"playlist-modify-public\"]\n",
    "\n",
    "os.environ['SPOTIPY_CLIENT_ID'] = cid\n",
    "os.environ['SPOTIPY_CLIENT_SECRET'] = secret\n",
    "os.environ['SPOTIPY_REDIRECT_URI'] = 'https://example.com/callback'\n",
    "\n",
    "client_credentials_manager = SpotifyClientCredentials(client_id=cid, client_secret=secret)\n",
    "sp = spotipy.Spotify(client_credentials_manager=client_credentials_manager)"
   ]
  },
  {
   "cell_type": "markdown",
   "id": "155e381e-5541-47f7-baad-658718229270",
   "metadata": {},
   "source": [
    "### Basic Song Search\n",
    "Use API call to search for song given keywords such as title / artist"
   ]
  },
  {
   "cell_type": "code",
   "execution_count": 3,
   "id": "29a86085-fffa-43ae-80a5-dd4c1cc17eb4",
   "metadata": {},
   "outputs": [
    {
     "name": "stdout",
     "output_type": "stream",
     "text": [
      "[{'album': {'album_type': 'album',\n",
      "            'artists': [{'external_urls': {'spotify': 'https://open.spotify.com/artist/25uiPmTg16RbhZWAqwLBy5'},\n",
      "                         'href': 'https://api.spotify.com/v1/artists/25uiPmTg16RbhZWAqwLBy5',\n",
      "                         'id': '25uiPmTg16RbhZWAqwLBy5',\n",
      "                         'name': 'Charli xcx',\n",
      "                         'type': 'artist',\n",
      "                         'uri': 'spotify:artist:25uiPmTg16RbhZWAqwLBy5'}],\n",
      "            'external_urls': {'spotify': 'https://open.spotify.com/album/36P07bti6xD99o7S1acmin'},\n",
      "            'href': 'https://api.spotify.com/v1/albums/36P07bti6xD99o7S1acmin',\n",
      "            'id': '36P07bti6xD99o7S1acmin',\n",
      "            'images': [{'height': 640,\n",
      "                        'url': 'https://i.scdn.co/image/ab67616d0000b27355a1e72ba425c60a02a9bb47',\n",
      "                        'width': 640},\n",
      "                       {'height': 300,\n",
      "                        'url': 'https://i.scdn.co/image/ab67616d00001e0255a1e72ba425c60a02a9bb47',\n",
      "                        'width': 300},\n",
      "                       {'height': 64,\n",
      "                        'url': 'https://i.scdn.co/image/ab67616d0000485155a1e72ba425c60a02a9bb47',\n",
      "                        'width': 64}],\n",
      "            'is_playable': True,\n",
      "            'name': 'Brat and it’s completely different but also still brat',\n",
      "            'release_date': '2024-10-11',\n",
      "            'release_date_precision': 'day',\n",
      "            'total_tracks': 34,\n",
      "            'type': 'album',\n",
      "            'uri': 'spotify:album:36P07bti6xD99o7S1acmin'},\n",
      "  'artists': [{'external_urls': {'spotify': 'https://open.spotify.com/artist/25uiPmTg16RbhZWAqwLBy5'},\n",
      "               'href': 'https://api.spotify.com/v1/artists/25uiPmTg16RbhZWAqwLBy5',\n",
      "               'id': '25uiPmTg16RbhZWAqwLBy5',\n",
      "               'name': 'Charli xcx',\n",
      "               'type': 'artist',\n",
      "               'uri': 'spotify:artist:25uiPmTg16RbhZWAqwLBy5'},\n",
      "              {'external_urls': {'spotify': 'https://open.spotify.com/artist/4Ge8xMJNwt6EEXOzVXju9a'},\n",
      "               'href': 'https://api.spotify.com/v1/artists/4Ge8xMJNwt6EEXOzVXju9a',\n",
      "               'id': '4Ge8xMJNwt6EEXOzVXju9a',\n",
      "               'name': 'Caroline Polachek',\n",
      "               'type': 'artist',\n",
      "               'uri': 'spotify:artist:4Ge8xMJNwt6EEXOzVXju9a'}],\n",
      "  'disc_number': 1,\n",
      "  'duration_ms': 203945,\n",
      "  'explicit': True,\n",
      "  'external_ids': {'isrc': 'USAT22408053'},\n",
      "  'external_urls': {'spotify': 'https://open.spotify.com/track/1RGidCmtrqER8GBs8TnG9C'},\n",
      "  'href': 'https://api.spotify.com/v1/tracks/1RGidCmtrqER8GBs8TnG9C',\n",
      "  'id': '1RGidCmtrqER8GBs8TnG9C',\n",
      "  'is_local': False,\n",
      "  'is_playable': True,\n",
      "  'name': 'Everything is romantic featuring caroline polachek',\n",
      "  'popularity': 68,\n",
      "  'preview_url': 'https://p.scdn.co/mp3-preview/cb696d8f7ebe28f87a499d5958bd6a159b10ac48?cid=8cb6a4b6416941e0b6d53723c3309cff',\n",
      "  'track_number': 7,\n",
      "  'type': 'track',\n",
      "  'uri': 'spotify:track:1RGidCmtrqER8GBs8TnG9C'}]\n"
     ]
    }
   ],
   "source": [
    "search = \"everything is romantic charli\"\n",
    "\n",
    "res = sp.search(search, type=\"track\", market=market, limit=1)\n",
    "pprint.pp(res['tracks']['items']) # formatting the output to make it a bit more readable"
   ]
  },
  {
   "cell_type": "markdown",
   "id": "f29585df-366f-41b3-ae5f-b4c50ddd45b7",
   "metadata": {},
   "source": [
    "### Song Recommendations Based on Artists\n",
    "Given an artist, output top 4 other related artists and store their artist IDs"
   ]
  },
  {
   "cell_type": "code",
   "execution_count": 4,
   "id": "bcf4d90d-829b-449d-b6c7-9cf9eea0b95a",
   "metadata": {},
   "outputs": [
    {
     "name": "stdout",
     "output_type": "stream",
     "text": [
      "'Chappell Roan'\n",
      "'Gracie Abrams'\n",
      "'Lady Gaga'\n",
      "'Addison Rae'\n"
     ]
    }
   ],
   "source": [
    " #ARTIST ID FOR SABRINA CARPENTER\n",
    "artist_id = \"74KM79TiuVKeVCqs8QtB0B\"\n",
    "\n",
    "# API CALL\n",
    "related_artists = sp.artist_related_artists(artist_id)\n",
    "\n",
    "# create a list with artist and then add related artists\n",
    "seed_artists = []\n",
    "seed_artists.append(artist_id)\n",
    "\n",
    "for i in range(0,4):\n",
    "    pprint.pp(related_artists['artists'][i]['name'])\n",
    "    seed_artists.append(related_artists['artists'][i]['id'])"
   ]
  },
  {
   "cell_type": "markdown",
   "id": "56bc50b4-beff-47e8-93dd-56a7e6cdba8b",
   "metadata": {},
   "source": [
    "Now, use the API to recommend songs based on your main artist / related artists."
   ]
  },
  {
   "cell_type": "code",
   "execution_count": 5,
   "id": "2e96b833-a802-4e43-a76c-a92ee0765aa7",
   "metadata": {},
   "outputs": [
    {
     "name": "stdout",
     "output_type": "stream",
     "text": [
      "'Magnetic'\n",
      "'Cedar'\n",
      "'favorite'\n",
      "'Good Luck, Babe!'\n",
      "'Liability'\n",
      "'Love Songs'\n",
      "'pocket locket'\n",
      "'So Happy I Could Die'\n",
      "'I Want You'\n",
      "'Brazil'\n"
     ]
    }
   ],
   "source": [
    "track_recs_artist = sp.recommendations(seed_artists=seed_artists,limit=50)\n",
    "\n",
    "# print out the first 10\n",
    "for i in range(0,10):\n",
    "    pprint.pp(track_recs_artist['tracks'][i]['name'])"
   ]
  },
  {
   "cell_type": "markdown",
   "id": "eece4644-1d30-4e24-9fe6-22466ccc4a93",
   "metadata": {},
   "source": [
    "### Song Recommendations Based on Tracks + Playlist Generation\n",
    "Given a list of track IDs, generate 50 recommended songs via the API and add that to a playlist"
   ]
  },
  {
   "cell_type": "code",
   "execution_count": 6,
   "id": "b1129150-e393-4c5d-833c-59919274081d",
   "metadata": {},
   "outputs": [
    {
     "name": "stdout",
     "output_type": "stream",
     "text": [
      "'The Neighborhood'\n",
      "'DEATHCAMP (feat. Cole Alexander)'\n",
      "'2 die 4 (feat. Charli XCX)'\n",
      "'Heartbroken Bitch'\n",
      "'Tailor Swif'\n",
      "'Looking For The Hoes (Ain’t My Fault)'\n",
      "'Used (feat. Don Toliver)'\n",
      "'What If I Love You'\n",
      "'Pushing 20'\n",
      "'I Can’t Even Cry'\n",
      "'Hey Jane'\n",
      "'orange show speedway'\n",
      "'Funeral'\n",
      "'KRYPTONITE'\n",
      "'Never Need Me'\n",
      "'Personally'\n",
      "\"I'm Just A Girl\"\n",
      "\"Don't Want It Back\"\n",
      "'ORANGE SODA'\n",
      "'Me and Your Mama'\n",
      "'Think Twice'\n",
      "'bad news (LDN)'\n",
      "'ok with it'\n",
      "'Pilot'\n",
      "'Motion Sickness'\n",
      "'Cowboy'\n",
      "'Cupid – Twin Ver. (feat. Sabrina Carpenter)'\n",
      "'Snooze (Acoustic) (feat. Justin Bieber)'\n",
      "'Bad Idea'\n",
      "'MUTUAL'\n",
      "'Trustworthy (Interlude)'\n",
      "'Empty'\n",
      "\"It's ok I'm ok - Ian Asher remix\"\n",
      "'WYA'\n",
      "'Stargirl Interlude'\n",
      "'Walk On By'\n",
      "'Love Songs'\n",
      "'Red Wine Supernova'\n",
      "'Cool About It'\n",
      "'Painkiller'\n",
      "'Space & Time'\n",
      "\"i'm so gone\"\n",
      "'Red Flag'\n",
      "'Sugar Sweet'\n",
      "'Lose You'\n",
      "'Who Hurt You?'\n",
      "\"The Fly who couldn't Fly straight (feat. Tyler, The Creator)\"\n",
      "'Wus Good / Curious'\n",
      "'Frances'\n",
      "'EARFQUAKE'\n",
      "{'snapshot_id': 'AAAAE5O1sU15dC+PS4PPp8wtYkgacopf'}\n"
     ]
    }
   ],
   "source": [
    "# tracks that we are using to generate recommendations\n",
    "# Sticky (Tyler, the Creator)\n",
    "# 2 hands (Tate McRae)\n",
    "# How (Omar Appollo)\n",
    "# Ghost in the Machine (SZA)\n",
    "# Already Over (Sabrina Carpenter)\n",
    "\n",
    "seed_tracks = [\"3tFed7YsjGnIfxeLEQwx3R\", \"1f18HzFpegqvH4ibGJyeMJ\", \"7swVEGJMVKPxktcZvBBaly\", \n",
    "               \"4h5x3XHLVYFJaItKuO2rhy\", \"5QhJorJmjqYfETfqgBtGg3\"]\n",
    "\n",
    "# generate song recommendations\n",
    "track_recs = sp.recommendations(seed_tracks=seed_tracks, limit=50)\n",
    "\n",
    "# add song IDs to recs list\n",
    "recs = []\n",
    "for i in range(0,len(track_recs['tracks'])):\n",
    "    recs.append(track_recs['tracks'][i]['id'])\n",
    "    pprint.pp(track_recs['tracks'][i]['name'])\n",
    "\n",
    "# generate playlist\n",
    "user_id = '12152729791'\n",
    "playlist_id = '7jJPl6HlKEOLVlDH0Pa7xU'\n",
    "token = util.prompt_for_user_token(user_id, scopes[3])\n",
    "\n",
    "if token:\n",
    "    sp = spotipy.Spotify(auth=token)\n",
    "    sp.trace = False\n",
    "    results = sp.user_playlist_add_tracks(user_id, playlist_id, recs)\n",
    "    print(results)\n",
    "else:\n",
    "    print(\"Can't get token for\", user_id)"
   ]
  },
  {
   "cell_type": "code",
   "execution_count": null,
   "id": "8dbb1265-a6f1-4dce-8b4c-e42ce16530b7",
   "metadata": {},
   "outputs": [],
   "source": []
  }
 ],
 "metadata": {
  "kernelspec": {
   "display_name": "Python 3 (ipykernel)",
   "language": "python",
   "name": "python3"
  },
  "language_info": {
   "codemirror_mode": {
    "name": "ipython",
    "version": 3
   },
   "file_extension": ".py",
   "mimetype": "text/x-python",
   "name": "python",
   "nbconvert_exporter": "python",
   "pygments_lexer": "ipython3",
   "version": "3.12.7"
  }
 },
 "nbformat": 4,
 "nbformat_minor": 5
}
